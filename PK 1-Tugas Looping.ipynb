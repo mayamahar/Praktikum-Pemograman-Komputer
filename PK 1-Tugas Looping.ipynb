{
 "cells": [
  {
   "cell_type": "markdown",
   "id": "45eecffc",
   "metadata": {},
   "source": [
    "Pangkat"
   ]
  },
  {
   "cell_type": "code",
   "execution_count": 11,
   "id": "8c72d71b",
   "metadata": {},
   "outputs": [
    {
     "ename": "SyntaxError",
     "evalue": "Missing parentheses in call to 'print'. Did you mean print(...)? (Temp/ipykernel_12568/308327379.py, line 14)",
     "output_type": "error",
     "traceback": [
      "\u001b[1;36m  File \u001b[1;32m\"C:\\Users\\LENOVO\\AppData\\Local\\Temp/ipykernel_12568/308327379.py\"\u001b[1;36m, line \u001b[1;32m14\u001b[0m\n\u001b[1;33m    print faktorisasiprima(8)def faktorisasiprima(x):\u001b[0m\n\u001b[1;37m    ^\u001b[0m\n\u001b[1;31mSyntaxError\u001b[0m\u001b[1;31m:\u001b[0m Missing parentheses in call to 'print'. Did you mean print(...)?\n"
     ]
    }
   ],
   "source": [
    "def faktorisasiprima(x):\n",
    "    # keluaran variabel factorlist berupa array\n",
    "    factorlist=[]\n",
    "    loop=2\n",
    "    while loop<=x:\n",
    "        if x%loop==0:\n",
    "            x/=loop\n",
    "            # append berfungsi untuk menambahkan sebuah objek ke dalam list/daftar\n",
    "            factorlist.append(loop)\n",
    "        else:\n",
    "            loop+=1\n",
    "    return factorlist\n",
    "angka = int(input(\"Masukkan angka: \"))\n",
    "print faktorisasiprima(8)def faktorisasiprima(x):\n",
    "    # keluaran variabel factorlist berupa array\n",
    "    factorlist=[]\n",
    "    loop=2\n",
    "    while loop<=x:\n",
    "        if x%loop==0:\n",
    "            x/=loop\n",
    "            # append berfungsi untuk menambahkan sebuah objek ke dalam list/daftar\n",
    "            factorlist.append(loop)\n",
    "        else:\n",
    "            loop+=1\n",
    "    return factorlist\n",
    "angka = int(input(\"Masukkan angka: \"))\n",
    "print faktorisasiprima(angka)"
   ]
  },
  {
   "cell_type": "code",
   "execution_count": 16,
   "id": "3e42d7a7",
   "metadata": {},
   "outputs": [
    {
     "name": "stdout",
     "output_type": "stream",
     "text": [
      "Masukkan sebuah bilangan untuk dicari faktornya: 24\n",
      "faktor dari 24 adalah: [1, 2, 3, 4, 6, 8, 12, 24]\n"
     ]
    }
   ],
   "source": [
    "def cari_faktor(bil):\n",
    "  faktor = []\n",
    "  batas_pembagi = int(bil**0.5+1)\n",
    "  for pembagi in range(1,batas_pembagi):\n",
    "    if bil % pembagi == 0:\n",
    "      pasangan_pembagi = int(bil / pembagi)\n",
    "      faktor.append(pembagi)\n",
    "      faktor.append(pasangan_pembagi)\n",
    "    faktor.sort()\n",
    "  return faktor\n",
    "\n",
    "bil = input('Masukkan sebuah bilangan untuk dicari faktornya: ')\n",
    "bil = int(bil)\n",
    "faktor = cari_faktor(bil)\n",
    "print('faktor dari',bil,'adalah:',faktor)"
   ]
  },
  {
   "cell_type": "code",
   "execution_count": 19,
   "id": "2f3a960a",
   "metadata": {},
   "outputs": [
    {
     "name": "stdout",
     "output_type": "stream",
     "text": [
      "Masukkan bilangan: 24\n",
      "Faktor dari 24 adalah:\n",
      "1\n",
      "2\n",
      "3\n",
      "4\n",
      "6\n",
      "8\n",
      "12\n",
      "24\n"
     ]
    }
   ],
   "source": [
    "def print_faktor(x):\n",
    "    print(\"Faktor dari\", x, \"adalah:\")\n",
    "    for i in range(1, x+1):\n",
    "        if x % i == 0:\n",
    "            print(i)\n",
    "num = int(input(\"Masukkan bilangan: \"))\n",
    "print_faktor(num)"
   ]
  },
  {
   "cell_type": "code",
   "execution_count": null,
   "id": "ef904197",
   "metadata": {},
   "outputs": [],
   "source": []
  }
 ],
 "metadata": {
  "kernelspec": {
   "display_name": "Python 3 (ipykernel)",
   "language": "python",
   "name": "python3"
  },
  "language_info": {
   "codemirror_mode": {
    "name": "ipython",
    "version": 3
   },
   "file_extension": ".py",
   "mimetype": "text/x-python",
   "name": "python",
   "nbconvert_exporter": "python",
   "pygments_lexer": "ipython3",
   "version": "3.10.1"
  }
 },
 "nbformat": 4,
 "nbformat_minor": 5
}
