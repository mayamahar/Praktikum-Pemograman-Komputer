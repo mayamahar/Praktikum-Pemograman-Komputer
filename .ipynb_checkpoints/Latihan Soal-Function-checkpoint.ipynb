{
 "cells": [
  {
   "cell_type": "markdown",
   "id": "d2052d55",
   "metadata": {},
   "source": [
    "1. Definisikan function untuk cek bilangan ganjil/genap"
   ]
  },
  {
   "cell_type": "code",
   "execution_count": 3,
   "id": "027c9cd3",
   "metadata": {
    "scrolled": true
   },
   "outputs": [
    {
     "name": "stdout",
     "output_type": "stream",
     "text": [
      "Enter a number: 9\n",
      "9 adalah bilangan ganjil\n"
     ]
    }
   ],
   "source": [
    "num = int(input(\"Enter a number: \"))  \n",
    "if (num % 2) == 0:\n",
    "    print(\"{0} adalah bilangan genap\".format(num))  \n",
    "else:\n",
    "    print(\"{0} adalah bilangan ganjil\".format(num))"
   ]
  },
  {
   "cell_type": "markdown",
   "id": "b5b95ad5",
   "metadata": {},
   "source": [
    "2. Definisikan function untuk mencari faktor dari sebuah bilangan, yang dikembalikan adalah list dari faktor bilangan"
   ]
  },
  {
   "cell_type": "code",
   "execution_count": 4,
   "id": "08a1b4d4",
   "metadata": {},
   "outputs": [
    {
     "name": "stdout",
     "output_type": "stream",
     "text": [
      "Faktor dari 97 adalah:\n",
      "1\n",
      "97\n"
     ]
    }
   ],
   "source": [
    "def print_factors(x):\n",
    "    print(\"Faktor dari\",x,\"adalah:\")\n",
    "    for i in range(1, x + 1):\n",
    "        if x % i == 0:\n",
    "            print(i)\n",
    "num = 97\n",
    "print_factors(num)"
   ]
  },
  {
   "cell_type": "markdown",
   "id": "3e9c33bc",
   "metadata": {},
   "source": [
    "3. Definisikan function untuk cek bilangan prima yang mengembalikan True jika prima dan False jika bukan prima"
   ]
  },
  {
   "cell_type": "code",
   "execution_count": 5,
   "id": "2accd740",
   "metadata": {},
   "outputs": [
    {
     "name": "stdout",
     "output_type": "stream",
     "text": [
      "97 adalah bilangan prima\n"
     ]
    }
   ],
   "source": [
    "num = 97\n",
    "if num > 1:\n",
    "    for i in range(2, int(num/2)+1):\n",
    "        if (num % i) == 0:\n",
    "            print(num, \"adalah bukan bilangan prima\")\n",
    "            break\n",
    "    else:\n",
    "        print(num, \"adalah bilangan prima\")\n",
    "else:\n",
    "    print(num, \"adalah bukan bilangan prima\")"
   ]
  },
  {
   "cell_type": "code",
   "execution_count": null,
   "id": "46dadeff",
   "metadata": {},
   "outputs": [],
   "source": []
  }
 ],
 "metadata": {
  "kernelspec": {
   "display_name": "Python 3 (ipykernel)",
   "language": "python",
   "name": "python3"
  },
  "language_info": {
   "codemirror_mode": {
    "name": "ipython",
    "version": 3
   },
   "file_extension": ".py",
   "mimetype": "text/x-python",
   "name": "python",
   "nbconvert_exporter": "python",
   "pygments_lexer": "ipython3",
   "version": "3.10.1"
  }
 },
 "nbformat": 4,
 "nbformat_minor": 5
}
