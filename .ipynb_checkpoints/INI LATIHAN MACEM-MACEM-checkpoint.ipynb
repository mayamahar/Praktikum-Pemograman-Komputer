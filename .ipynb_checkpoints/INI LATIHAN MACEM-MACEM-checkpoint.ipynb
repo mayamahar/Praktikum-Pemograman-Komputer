{
 "cells": [
  {
   "cell_type": "code",
   "execution_count": 3,
   "id": "162fb4f1",
   "metadata": {},
   "outputs": [
    {
     "name": "stdout",
     "output_type": "stream",
     "text": [
      "Enter a number: -9\n",
      "-9 adalah bilangan ganjil\n"
     ]
    }
   ],
   "source": [
    "num = int(input(\"Enter a number: \"))  \n",
    "if (num % 2) == 0:\n",
    "    print(\"{0} adalah bilangan genap\".format(num))  \n",
    "else:\n",
    "    print(\"{0} adalah bilangan ganjil\".format(num))"
   ]
  },
  {
   "cell_type": "code",
   "execution_count": 6,
   "id": "53006095",
   "metadata": {},
   "outputs": [
    {
     "name": "stdout",
     "output_type": "stream",
     "text": [
      "Faktor dari 6 adalah:\n",
      "1\n",
      "2\n",
      "3\n",
      "6\n"
     ]
    }
   ],
   "source": [
    "def print_factors(x):\n",
    "    print(\"Faktor dari\",x,\"adalah:\")\n",
    "    for i in range(1, x + 1):\n",
    "        if x % i == 0:\n",
    "            print(i)\n",
    "num = 6\n",
    "print_factors(num)"
   ]
  },
  {
   "cell_type": "code",
   "execution_count": 8,
   "id": "78e2a636",
   "metadata": {},
   "outputs": [
    {
     "ename": "SyntaxError",
     "evalue": "invalid syntax (Temp/ipykernel_11436/1621513269.py, line 6)",
     "output_type": "error",
     "traceback": [
      "\u001b[1;36m  File \u001b[1;32m\"C:\\Users\\LENOVO\\AppData\\Local\\Temp/ipykernel_11436/1621513269.py\"\u001b[1;36m, line \u001b[1;32m6\u001b[0m\n\u001b[1;33m    to True:\u001b[0m\n\u001b[1;37m       ^\u001b[0m\n\u001b[1;31mSyntaxError\u001b[0m\u001b[1;31m:\u001b[0m invalid syntax\n"
     ]
    }
   ],
   "source": [
    "num = 29\n",
    "flag = False\n",
    "if num > 1:\n",
    "    for i in range(2, num):\n",
    "        if (num % i) == 0:\n",
    "            to True:\n",
    "                flag = True\n",
    "            break\n",
    "if flag:\n",
    "    print(num, \"is not a prime number\")\n",
    "else:\n",
    "    print(num, \"is a prime number\")"
   ]
  },
  {
   "cell_type": "code",
   "execution_count": 14,
   "id": "22e7d8db",
   "metadata": {},
   "outputs": [
    {
     "ename": "IndentationError",
     "evalue": "unexpected indent (Temp/ipykernel_11436/3128713197.py, line 3)",
     "output_type": "error",
     "traceback": [
      "\u001b[1;36m  File \u001b[1;32m\"C:\\Users\\LENOVO\\AppData\\Local\\Temp/ipykernel_11436/3128713197.py\"\u001b[1;36m, line \u001b[1;32m3\u001b[0m\n\u001b[1;33m    for i in range(2, num//2):\u001b[0m\n\u001b[1;37m    ^\u001b[0m\n\u001b[1;31mIndentationError\u001b[0m\u001b[1;31m:\u001b[0m unexpected indent\n"
     ]
    }
   ],
   "source": [
    "num = 13\n",
    "if num &gt: 1;\n",
    "    for i in range(2, num//2):\n",
    "        if (num % i) == 0:\n",
    "            print(num, \"is not a prime number\")\n",
    "            break\n",
    "            else:\n",
    "                print(num, \"is a prime number\")\n",
    "                else:\n",
    "                    print(num, \"is not a prime number\")"
   ]
  },
  {
   "cell_type": "code",
   "execution_count": 18,
   "id": "e3389767",
   "metadata": {},
   "outputs": [
    {
     "name": "stdout",
     "output_type": "stream",
     "text": [
      "97 adalah bilangan prima\n"
     ]
    }
   ],
   "source": [
    "num = 97\n",
    "if num > 1:\n",
    "    for i in range(2, int(num/2)+1):\n",
    "        if (num % i) == 0:\n",
    "            print(num, \"adalah bukan bilangan prima\")\n",
    "            break\n",
    "    else:\n",
    "        print(num, \"adalah bilangan prima\")\n",
    "else:\n",
    "    print(num, \"adalah bukan bilangan prima\")"
   ]
  },
  {
   "cell_type": "code",
   "execution_count": 1,
   "id": "09be748b",
   "metadata": {},
   "outputs": [
    {
     "ename": "ModuleNotFoundError",
     "evalue": "No module named 'matplotlib'",
     "output_type": "error",
     "traceback": [
      "\u001b[1;31m---------------------------------------------------------------------------\u001b[0m",
      "\u001b[1;31mModuleNotFoundError\u001b[0m                       Traceback (most recent call last)",
      "\u001b[1;32m~\\AppData\\Local\\Temp/ipykernel_16328/3684649050.py\u001b[0m in \u001b[0;36m<module>\u001b[1;34m\u001b[0m\n\u001b[1;32m----> 1\u001b[1;33m \u001b[1;32mimport\u001b[0m \u001b[0mmatplotlib\u001b[0m\u001b[1;33m.\u001b[0m\u001b[0mpyplot\u001b[0m \u001b[1;32mas\u001b[0m \u001b[0mplt\u001b[0m\u001b[1;33m\u001b[0m\u001b[1;33m\u001b[0m\u001b[0m\n\u001b[0m\u001b[0;32m      2\u001b[0m \u001b[1;32mimport\u001b[0m \u001b[0mnumpy\u001b[0m \u001b[1;32mas\u001b[0m \u001b[0mnp\u001b[0m\u001b[1;33m\u001b[0m\u001b[1;33m\u001b[0m\u001b[0m\n\u001b[0;32m      3\u001b[0m \u001b[1;33m\u001b[0m\u001b[0m\n\u001b[0;32m      4\u001b[0m \u001b[1;32mdef\u001b[0m \u001b[0mmain\u001b[0m\u001b[1;33m(\u001b[0m\u001b[1;33m)\u001b[0m\u001b[1;33m:\u001b[0m\u001b[1;33m\u001b[0m\u001b[1;33m\u001b[0m\u001b[0m\n\u001b[0;32m      5\u001b[0m \u001b[1;33m\u001b[0m\u001b[0m\n",
      "\u001b[1;31mModuleNotFoundError\u001b[0m: No module named 'matplotlib'"
     ]
    }
   ],
   "source": [
    "import matplotlib.pyplot as plt\n",
    "import numpy as np\n",
    "\n",
    "def main():\n",
    "\n",
    "    x = np.arange(0.0, 10.0, 0.01)\n",
    "\n",
    "    f = np.e - x / 10 * np.sin(x * np.pi)\n",
    "    g = x * np.e - x / 3\n",
    "\n",
    "    plt.plot(x, f)\n",
    "    plt.plot(x, g)\n",
    "\n",
    "    plt.show()\n",
    "\n",
    "if __name__ == '__main__':\n",
    "    main()"
   ]
  },
  {
   "cell_type": "code",
   "execution_count": 4,
   "id": "e24f67bb",
   "metadata": {},
   "outputs": [],
   "source": [
    "import matplotlib.pyplot as plt"
   ]
  },
  {
   "cell_type": "code",
   "execution_count": 5,
   "id": "02762742",
   "metadata": {},
   "outputs": [],
   "source": [
    "import numpy as np"
   ]
  },
  {
   "cell_type": "code",
   "execution_count": 6,
   "id": "8e75e2fd",
   "metadata": {},
   "outputs": [
    {
     "data": {
      "image/png": "[encoded data removed]",
      "text/plain": [
       "<Figure size 432x288 with 1 Axes>"
      ]
     },
     "metadata": {
      "needs_background": "light"
     },
     "output_type": "display_data"
    }
   ],
   "source": [
    "def main():\n",
    "\n",
    "    x = np.arange(0.0, 10.0, 0.01)\n",
    "\n",
    "    f = np.e - x / 10 * np.sin(x * np.pi)\n",
    "    g = x * np.e - x / 3\n",
    "\n",
    "    plt.plot(x, f)\n",
    "    plt.plot(x, g)\n",
    "\n",
    "    plt.show()\n",
    "\n",
    "if __name__ == '__main__':\n",
    "    main()"
   ]
  },
  {
   "cell_type": "code",
   "execution_count": 7,
   "id": "386bd00d",
   "metadata": {},
   "outputs": [],
   "source": [
    "theta=np.linspace(0,10,200)\n",
    "\n",
    "r=0.8+np.cos(theta)\n",
    "r1=1.0+np.cos(theta)\n",
    "r2=1.2+np.cos(theta)\n",
    "\n",
    "x=r*np.cos(theta)\n",
    "y=r*np.sin(theta)\n",
    "\n",
    "x1=r1*np.cos(theta)\n",
    "y1=r1*np.sin(theta)\n",
    "\n",
    "x2=r2*np.cos(theta)\n",
    "y2=r2*np.sin(theta)"
   ]
  },
  {
   "cell_type": "code",
   "execution_count": 8,
   "id": "ce228cee",
   "metadata": {},
   "outputs": [
    {
     "data": {
      "text/plain": [
       "Text(0.5, 1.0, 'r=0.8')"
      ]
     },
     "execution_count": 8,
     "metadata": {},
     "output_type": "execute_result"
    },
    {
     "data": {
      "image/png": "[encoded data removed]",
      "text/plain": [
       "<Figure size 432x288 with 1 Axes>"
      ]
     },
     "metadata": {
      "needs_background": "light"
     },
     "output_type": "display_data"
    }
   ],
   "source": [
    "plt.plot(x,y)\n",
    "plt.title('r=0.8')"
   ]
  },
  {
   "cell_type": "code",
   "execution_count": null,
   "id": "fd663b94",
   "metadata": {},
   "outputs": [],
   "source": []
  }
 ],
 "metadata": {
  "kernelspec": {
   "display_name": "Python 3 (ipykernel)",
   "language": "python",
   "name": "python3"
  },
  "language_info": {
   "codemirror_mode": {
    "name": "ipython",
    "version": 3
   },
   "file_extension": ".py",
   "mimetype": "text/x-python",
   "name": "python",
   "nbconvert_exporter": "python",
   "pygments_lexer": "ipython3",
   "version": "3.10.1"
  }
 },
 "nbformat": 4,
 "nbformat_minor": 5
}
