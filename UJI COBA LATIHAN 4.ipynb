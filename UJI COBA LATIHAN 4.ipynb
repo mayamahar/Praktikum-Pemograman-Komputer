{
 "cells": [
  {
   "cell_type": "markdown",
   "id": "2a1a3295",
   "metadata": {},
   "source": [
    "Latihan Control Flow"
   ]
  },
  {
   "cell_type": "code",
   "execution_count": 10,
   "id": "bb24a10b",
   "metadata": {},
   "outputs": [
    {
     "name": "stdout",
     "output_type": "stream",
     "text": [
      "Masukan a=3\n",
      "Masukan b=2\n",
      "3\n"
     ]
    }
   ],
   "source": [
    "a=input('Masukan a=')\n",
    "b=input('Masukan b=')\n",
    "if int(a)>int(b):\n",
    "    print(a)\n",
    "elif int(a)<int(b):\n",
    "    print(b)"
   ]
  },
  {
   "cell_type": "code",
   "execution_count": 13,
   "id": "971a2158",
   "metadata": {},
   "outputs": [
    {
     "name": "stdout",
     "output_type": "stream",
     "text": [
      "nilai UAS:65\n",
      "nilai UTS:10\n",
      "nilai kuis:10\n",
      "nilai Tugas:16\n",
      "REMIDI\n"
     ]
    }
   ],
   "source": [
    "a= int(input(\"nilai UAS:\"))\n",
    "b= int(input(\"nilai UTS:\"))\n",
    "c= int(input(\"nilai kuis:\"))\n",
    "d= int(input (\"nilai Tugas:\"))\n",
    "NA= (a*40+b*30+c*10+d*20)/100\n",
    "if NA<=65:\n",
    "    print (\"REMIDI\")\n",
    "else:(\"LULUS\")"
   ]
  },
  {
   "cell_type": "code",
   "execution_count": 15,
   "id": "64ccb0e4",
   "metadata": {},
   "outputs": [
    {
     "name": "stdout",
     "output_type": "stream",
     "text": [
      "Kalkulator Sederhana\n",
      "\n",
      "1. Penjumlahan\n",
      "2. Pengurangan\n",
      "3. Perkalian\n",
      "4. Pembagian\n",
      "\n",
      "Masukan Pilihan Operasi : 3\n",
      "Bilangan 1 : 5\n",
      "Bilangan 2 : 3\n",
      "\n",
      "Hasil : 15\n"
     ]
    }
   ],
   "source": [
    "print(\"Kalkulator Sederhana\\n\")\n",
    "print(\"1. Penjumlahan\")\n",
    "print(\"2. Pengurangan\")\n",
    "print(\"3. Perkalian\")\n",
    "print(\"4. Pembagian\")\n",
    "\n",
    "pil = int(input(\"\\nMasukan Pilihan Operasi : \"))\n",
    "\n",
    "x= int(input(\"Bilangan 1 : \"))\n",
    "y= int(input(\"Bilangan 2 : \"))\n",
    "\n",
    "if pil == 1:\n",
    "   hasil = x+y\n",
    "elif pil == 2:\n",
    "   hasil = x-y\n",
    "elif pil == 3:\n",
    "   hasil = x*y\n",
    "elif pil == 4:\n",
    "   hasil = x/y\n",
    "\n",
    "print(\"\\nHasil : %d\" %hasil)"
   ]
  },
  {
   "cell_type": "code",
   "execution_count": null,
   "id": "550472de",
   "metadata": {},
   "outputs": [],
   "source": []
  }
 ],
 "metadata": {
  "kernelspec": {
   "display_name": "Python 3 (ipykernel)",
   "language": "python",
   "name": "python3"
  },
  "language_info": {
   "codemirror_mode": {
    "name": "ipython",
    "version": 3
   },
   "file_extension": ".py",
   "mimetype": "text/x-python",
   "name": "python",
   "nbconvert_exporter": "python",
   "pygments_lexer": "ipython3",
   "version": "3.10.1"
  }
 },
 "nbformat": 4,
 "nbformat_minor": 5
}
