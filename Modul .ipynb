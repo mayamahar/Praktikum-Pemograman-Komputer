{
 "cells": [
  {
   "cell_type": "code",
   "execution_count": 1,
   "id": "80877017",
   "metadata": {},
   "outputs": [],
   "source": [
    "import kesatria"
   ]
  },
  {
   "cell_type": "code",
   "execution_count": 8,
   "id": "74bac180",
   "metadata": {},
   "outputs": [
    {
     "data": {
      "text/plain": [
       "<module 'kesatria' from 'D:\\\\PEMOGRAMAN KOMPUTER 1\\\\kesatria.py'>"
      ]
     },
     "execution_count": 8,
     "metadata": {},
     "output_type": "execute_result"
    }
   ],
   "source": [
    "kesatria"
   ]
  },
  {
   "cell_type": "code",
   "execution_count": 9,
   "id": "46528b86",
   "metadata": {},
   "outputs": [
    {
     "ename": "AttributeError",
     "evalue": "module 'kesatria' has no attribute 'serangMonster'",
     "output_type": "error",
     "traceback": [
      "\u001b[1;31m---------------------------------------------------------------------------\u001b[0m",
      "\u001b[1;31mAttributeError\u001b[0m                            Traceback (most recent call last)",
      "\u001b[1;32m~\\AppData\\Local\\Temp/ipykernel_6064/125871271.py\u001b[0m in \u001b[0;36m<module>\u001b[1;34m\u001b[0m\n\u001b[1;32m----> 1\u001b[1;33m \u001b[0mkesatria\u001b[0m\u001b[1;33m.\u001b[0m\u001b[0mserangMonster\u001b[0m\u001b[1;33m(\u001b[0m\u001b[1;33m)\u001b[0m\u001b[1;33m\u001b[0m\u001b[1;33m\u001b[0m\u001b[0m\n\u001b[0m",
      "\u001b[1;31mAttributeError\u001b[0m: module 'kesatria' has no attribute 'serangMonster'"
     ]
    }
   ],
   "source": [
    "kesatria.serangMonster()"
   ]
  },
  {
   "cell_type": "code",
   "execution_count": null,
   "id": "ced2fd93",
   "metadata": {},
   "outputs": [],
   "source": []
  }
 ],
 "metadata": {
  "kernelspec": {
   "display_name": "Python 3 (ipykernel)",
   "language": "python",
   "name": "python3"
  },
  "language_info": {
   "codemirror_mode": {
    "name": "ipython",
    "version": 3
   },
   "file_extension": ".py",
   "mimetype": "text/x-python",
   "name": "python",
   "nbconvert_exporter": "python",
   "pygments_lexer": "ipython3",
   "version": "3.10.1"
  }
 },
 "nbformat": 4,
 "nbformat_minor": 5
}
