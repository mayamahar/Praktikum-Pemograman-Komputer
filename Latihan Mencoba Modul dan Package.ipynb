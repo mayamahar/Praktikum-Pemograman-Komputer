{
 "cells": [
  {
   "cell_type": "code",
   "execution_count": 5,
   "id": "e8963f53",
   "metadata": {},
   "outputs": [
    {
     "name": "stdout",
     "output_type": "stream",
     "text": [
      "Dijalankan Ketika Package Diimport\n"
     ]
    }
   ],
   "source": [
    "import Latmodulpackage"
   ]
  },
  {
   "cell_type": "code",
   "execution_count": 6,
   "id": "7d74d2b2",
   "metadata": {},
   "outputs": [],
   "source": [
    "from Latmodulpackage import kata"
   ]
  },
  {
   "cell_type": "code",
   "execution_count": 7,
   "id": "22aea7a2",
   "metadata": {},
   "outputs": [
    {
     "data": {
      "text/plain": [
       "<module 'Latmodulpackage.kata' from 'D:\\\\PEMOGRAMAN KOMPUTER 1\\\\Latmodulpackage\\\\kata.py'>"
      ]
     },
     "execution_count": 7,
     "metadata": {},
     "output_type": "execute_result"
    }
   ],
   "source": [
    "kata"
   ]
  },
  {
   "cell_type": "code",
   "execution_count": 8,
   "id": "b529274d",
   "metadata": {},
   "outputs": [],
   "source": [
    "from Latmodulpackage import nomor"
   ]
  },
  {
   "cell_type": "code",
   "execution_count": 9,
   "id": "4384784b",
   "metadata": {},
   "outputs": [
    {
     "data": {
      "text/plain": [
       "<module 'Latmodulpackage.nomor' from 'D:\\\\PEMOGRAMAN KOMPUTER 1\\\\Latmodulpackage\\\\nomor.py'>"
      ]
     },
     "execution_count": 9,
     "metadata": {},
     "output_type": "execute_result"
    }
   ],
   "source": [
    "nomor"
   ]
  },
  {
   "cell_type": "code",
   "execution_count": 10,
   "id": "cc7a02db",
   "metadata": {},
   "outputs": [
    {
     "name": "stdout",
     "output_type": "stream",
     "text": [
      "ahaM ayaM\n"
     ]
    }
   ],
   "source": [
    "print (kata.balik_huruf('Maya Maha'))"
   ]
  },
  {
   "cell_type": "code",
   "execution_count": 11,
   "id": "02958c19",
   "metadata": {},
   "outputs": [
    {
     "name": "stdout",
     "output_type": "stream",
     "text": [
      "inar aham\n"
     ]
    }
   ],
   "source": [
    "print (kata.balik_huruf('maha rani'))"
   ]
  },
  {
   "cell_type": "code",
   "execution_count": 12,
   "id": "95118824",
   "metadata": {},
   "outputs": [
    {
     "name": "stdout",
     "output_type": "stream",
     "text": [
      "9\n"
     ]
    }
   ],
   "source": [
    "print (nomor.lebih_besar(8,9))"
   ]
  },
  {
   "cell_type": "code",
   "execution_count": 13,
   "id": "8cd0ffb8",
   "metadata": {},
   "outputs": [
    {
     "name": "stdout",
     "output_type": "stream",
     "text": [
      "76\n"
     ]
    }
   ],
   "source": [
    "print (nomor.lebih_besar(70,76))"
   ]
  },
  {
   "cell_type": "code",
   "execution_count": null,
   "id": "7b066913",
   "metadata": {},
   "outputs": [],
   "source": []
  }
 ],
 "metadata": {
  "kernelspec": {
   "display_name": "Python 3 (ipykernel)",
   "language": "python",
   "name": "python3"
  },
  "language_info": {
   "codemirror_mode": {
    "name": "ipython",
    "version": 3
   },
   "file_extension": ".py",
   "mimetype": "text/x-python",
   "name": "python",
   "nbconvert_exporter": "python",
   "pygments_lexer": "ipython3",
   "version": "3.10.1"
  }
 },
 "nbformat": 4,
 "nbformat_minor": 5
}
