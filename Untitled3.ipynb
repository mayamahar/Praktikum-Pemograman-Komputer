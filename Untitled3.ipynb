{
 "cells": [
  {
   "cell_type": "code",
   "execution_count": 1,
   "id": "03925d10",
   "metadata": {},
   "outputs": [
    {
     "name": "stdout",
     "output_type": "stream",
     "text": [
      "Masukkan bilangan pertama: 1\n",
      "Masukkan bilangan kedua: 1\n",
      "Jumlah 1 + 1 adalah 2.0\n"
     ]
    }
   ],
   "source": [
    "# Program Penjumlahan Dua Bilangan \n",
    "# Meminta inputan dari user \n",
    "bil1 = input('Masukkan bilangan pertama: ') \n",
    "bil2 = input('Masukkan bilangan kedua: ') \n",
    "# Menjumlahkan bilangan \n",
    "jumlah = float(bil1) + float(bil2) \n",
    "# Menampilkan jumlah \n",
    "print('Jumlah {0} + {1} adalah {2}'.format(bil1, bil2, jumlah))"
   ]
  },
  {
   "cell_type": "code",
   "execution_count": 2,
   "id": "c94cbe77",
   "metadata": {},
   "outputs": [
    {
     "name": "stdout",
     "output_type": "stream",
     "text": [
      "Kalkulator Sederhana Python\n",
      "\n",
      "1. Penjumlahan\n",
      "2. Pengurangan\n",
      "3. Perkalian\n",
      "4. Pembagian\n",
      "\n",
      "Masukan Pilihan Operasi : 1\n",
      "Bilangan 1 : 1\n",
      "Bilangan 2 : 1\n",
      "\n",
      "Hasil : 2\n"
     ]
    }
   ],
   "source": [
    "print(\"Kalkulator Sederhana Python\\n\")\n",
    "print(\"1. Penjumlahan\")\n",
    "print(\"2. Pengurangan\")\n",
    "print(\"3. Perkalian\")\n",
    "print(\"4. Pembagian\")\n",
    "\n",
    "pil = int(input(\"\\nMasukan Pilihan Operasi : \"))\n",
    "\n",
    "x= int(input(\"Bilangan 1 : \"))\n",
    "y= int(input(\"Bilangan 2 : \"))\n",
    "\n",
    "if pil == 1:\n",
    "   hasil = x+y\n",
    "elif pil == 2:\n",
    "   hasil = x-y\n",
    "elif pil == 3:\n",
    "   hasil = x*y\n",
    "elif pil == 4:\n",
    "   hasil = x/y\n",
    "\n",
    "print(\"\\nHasil : %d\" %hasil)"
   ]
  },
  {
   "cell_type": "code",
   "execution_count": 3,
   "id": "a8ed3f5a",
   "metadata": {},
   "outputs": [
    {
     "ename": "NameError",
     "evalue": "name 'operasi' is not defined",
     "output_type": "error",
     "traceback": [
      "\u001b[1;31m---------------------------------------------------------------------------\u001b[0m",
      "\u001b[1;31mNameError\u001b[0m                                 Traceback (most recent call last)",
      "\u001b[1;32m~\\AppData\\Local\\Temp/ipykernel_10768/1580339827.py\u001b[0m in \u001b[0;36m<module>\u001b[1;34m\u001b[0m\n\u001b[1;32m----> 1\u001b[1;33m \u001b[1;32mif\u001b[0m \u001b[0moperasi\u001b[0m \u001b[1;33m==\u001b[0m \u001b[1;34m'1'\u001b[0m\u001b[1;33m:\u001b[0m\u001b[1;33m\u001b[0m\u001b[1;33m\u001b[0m\u001b[0m\n\u001b[0m\u001b[0;32m      2\u001b[0m   \u001b[0mhasil\u001b[0m \u001b[1;33m=\u001b[0m \u001b[0mbilangan_1\u001b[0m \u001b[1;33m+\u001b[0m \u001b[0mbilangan_2\u001b[0m\u001b[1;33m\u001b[0m\u001b[1;33m\u001b[0m\u001b[0m\n\u001b[0;32m      3\u001b[0m   \u001b[0mprint\u001b[0m\u001b[1;33m(\u001b[0m\u001b[1;34mf'Hasil operasi dari {bilangan_1} + {bilangan_2} = {hasil}'\u001b[0m\u001b[1;33m)\u001b[0m\u001b[1;33m\u001b[0m\u001b[1;33m\u001b[0m\u001b[0m\n\u001b[0;32m      4\u001b[0m \u001b[1;32melif\u001b[0m \u001b[0moperasi\u001b[0m \u001b[1;33m==\u001b[0m \u001b[1;34m'2'\u001b[0m\u001b[1;33m:\u001b[0m\u001b[1;33m\u001b[0m\u001b[1;33m\u001b[0m\u001b[0m\n\u001b[0;32m      5\u001b[0m   \u001b[0mhasil\u001b[0m \u001b[1;33m=\u001b[0m \u001b[0mbilangan_1\u001b[0m \u001b[1;33m-\u001b[0m \u001b[0mbilangan_2\u001b[0m\u001b[1;33m\u001b[0m\u001b[1;33m\u001b[0m\u001b[0m\n",
      "\u001b[1;31mNameError\u001b[0m: name 'operasi' is not defined"
     ]
    }
   ],
   "source": [
    "if operasi == '1':\n",
    "  hasil = bilangan_1 + bilangan_2\n",
    "  print(f'Hasil operasi dari {bilangan_1} + {bilangan_2} = {hasil}')\n",
    "elif operasi == '2':\n",
    "  hasil = bilangan_1 - bilangan_2\n",
    "  print(f'Hasil operasi dari {bilangan_1} - {bilangan_2} = {hasil}')\n",
    "elif operasi == '3':\n",
    "  hasil = bilangan_1 * bilangan_2\n",
    "  print(f'Hasil operasi dari {bilangan_1} * {bilangan_2} = {hasil}')\n",
    "elif operasi == '4':\n",
    "  hasil = bilangan_1 / bilangan_2\n",
    "  print(f'Hasil operasi dari {bilangan_1} / {bilangan_2} = {hasil}')\n",
    "else:\n",
    "  print('Tidak valid')"
   ]
  },
  {
   "cell_type": "code",
   "execution_count": null,
   "id": "b6366e6e",
   "metadata": {},
   "outputs": [],
   "source": []
  }
 ],
 "metadata": {
  "kernelspec": {
   "display_name": "Python 3 (ipykernel)",
   "language": "python",
   "name": "python3"
  },
  "language_info": {
   "codemirror_mode": {
    "name": "ipython",
    "version": 3
   },
   "file_extension": ".py",
   "mimetype": "text/x-python",
   "name": "python",
   "nbconvert_exporter": "python",
   "pygments_lexer": "ipython3",
   "version": "3.10.1"
  }
 },
 "nbformat": 4,
 "nbformat_minor": 5
}
