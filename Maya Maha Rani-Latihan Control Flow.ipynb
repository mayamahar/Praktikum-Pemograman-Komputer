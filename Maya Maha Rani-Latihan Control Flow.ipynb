{
 "cells": [
  {
   "cell_type": "markdown",
   "id": "ab06e5f0",
   "metadata": {},
   "source": [
    "# Faktor Bilangan"
   ]
  },
  {
   "cell_type": "code",
   "execution_count": 8,
   "id": "d7ee419d",
   "metadata": {},
   "outputs": [
    {
     "name": "stdout",
     "output_type": "stream",
     "text": [
      "Masukkan bilangan: 24\n",
      "Faktor dari 24 adalah:\n",
      "1\n",
      "2\n",
      "3\n",
      "4\n",
      "6\n",
      "8\n",
      "12\n",
      "24\n"
     ]
    }
   ],
   "source": [
    "def print_faktor(x):\n",
    "    print(\"Faktor dari\", x, \"adalah:\")\n",
    "    for i in range(1, x+1):\n",
    "        if x % i == 0:\n",
    "            print(i)\n",
    "num = int(input(\"Masukkan bilangan: \"))\n",
    "print_faktor(num)"
   ]
  },
  {
   "cell_type": "markdown",
   "id": "c70dfb07",
   "metadata": {},
   "source": [
    "# Dua Pangkat"
   ]
  },
  {
   "cell_type": "code",
   "execution_count": 6,
   "id": "83f052ff",
   "metadata": {},
   "outputs": [
    {
     "name": "stdout",
     "output_type": "stream",
     "text": [
      "masukan bilangan yang akan dicek:64\n",
      "bilangan 64 adalah 2 pangkat\n"
     ]
    }
   ],
   "source": [
    "bilangan=input(\"masukan bilangan yang akan dicek:\")\n",
    "bilangan=int(bilangan)\n",
    "hasil_bagi=bilangan\n",
    "while hasil_bagi%2==0:\n",
    "    hasil_bagi=hasil_bagi/2\n",
    "if hasil_bagi==1:\n",
    "    print(\"bilangan\",bilangan,\"adalah 2 pangkat\")\n",
    "else:\n",
    "    print(\"bilangan\",bilangan,\"bukan 2 pangkat\")"
   ]
  },
  {
   "cell_type": "code",
   "execution_count": null,
   "id": "9b874765",
   "metadata": {},
   "outputs": [],
   "source": []
  }
 ],
 "metadata": {
  "kernelspec": {
   "display_name": "Python 3 (ipykernel)",
   "language": "python",
   "name": "python3"
  },
  "language_info": {
   "codemirror_mode": {
    "name": "ipython",
    "version": 3
   },
   "file_extension": ".py",
   "mimetype": "text/x-python",
   "name": "python",
   "nbconvert_exporter": "python",
   "pygments_lexer": "ipython3",
   "version": "3.10.1"
  }
 },
 "nbformat": 4,
 "nbformat_minor": 5
}
